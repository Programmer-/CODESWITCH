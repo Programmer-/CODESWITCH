{
 "cells": [
  {
   "cell_type": "code",
   "execution_count": 3,
   "metadata": {},
   "outputs": [],
   "source": [
    "import pandas as pd\r\n",
    "import numpy as np\r\n",
    "from nltk.corpus import stopwords\r\n",
    "import re"
   ]
  },
  {
   "cell_type": "markdown",
   "metadata": {},
   "source": [
    "I'm importing the relevant libraries/modules."
   ]
  },
  {
   "cell_type": "code",
   "execution_count": 4,
   "metadata": {},
   "outputs": [
    {
     "data": {
      "text/plain": "164989"
     },
     "execution_count": 4,
     "metadata": {},
     "output_type": "execute_result"
    }
   ],
   "source": [
    "corpus = pd.read_csv('both.csv', header=None)\r\n",
    "corpus.columns = ['Text']\r\n",
    "initlength = len(corpus)\r\n",
    "initlength"
   ]
  },
  {
   "cell_type": "markdown",
   "metadata": {},
   "source": [
    "I read the corpusset without a header. \r\n",
    "I then add a column header to the corpusframe."
   ]
  },
  {
   "cell_type": "code",
   "execution_count": 5,
   "metadata": {},
   "outputs": [
    {
     "data": {
      "text/plain": "32052"
     },
     "execution_count": 5,
     "metadata": {},
     "output_type": "execute_result"
    }
   ],
   "source": [
    "corpus.drop_duplicates(subset = 'Text',keep= 'first', inplace= True)\r\n",
    "cleanlength = len(corpus)\r\n",
    "cleanlength"
   ]
  },
  {
   "cell_type": "code",
   "execution_count": 6,
   "metadata": {},
   "outputs": [],
   "source": [
    "# Proprocessing the corpus\r\n",
    "corpus['Text']=corpus['Text'].str.lower()\r\n",
    "# Code to remove the Hashtags from the Text\r\n",
    "corpus['Text']=corpus['Text'].apply(lambda x:re.sub(r'\\B#\\S+','',x))\r\n",
    "# Code to remove the links from the Text\r\n",
    "corpus['Text']=corpus['Text'].apply(lambda x:re.sub(r\"http\\S+\", \"\", x))\r\n",
    "# Code to remove the Special characters from the Text \r\n",
    "corpus['Text']=corpus['Text'].apply(lambda x:' '.join(re.findall(r'\\w+', x)))\r\n",
    "# Code to substitute the multiple spaces with single spaces\r\n",
    "corpus['Text']=corpus['Text'].apply(lambda x:re.sub(r'\\s+', ' ', x, flags=re.I))\r\n",
    "# Code to remove all the single characters in the Text\r\n",
    "corpus['Text']=corpus['Text'].apply(lambda x:re.sub(r'\\s+[a-zA-Z]\\s+', '', x))\r\n",
    "# Remove the twitter handlers\r\n",
    "corpus['Text']=corpus['Text'].apply(lambda x:re.sub('@[^\\s]+','',x))"
   ]
  },
  {
   "cell_type": "markdown",
   "metadata": {},
   "source": [
    "Code inspired by https://www.kaggle.com/accountstatus/k-means-vs-vader-vs-textblob-sentiment-analysis"
   ]
  },
  {
   "cell_type": "markdown",
   "metadata": {},
   "source": [
    "Dropping all duplicated rows from the corpusset and printing the length to show the difference before and after cleaning.\r\n",
    "Parameter keep is set to 'first' to make sure that that only the first original instance of a duplicate is stored.\r\n",
    "\r\n",
    "inspired by https://www.geeksforgeeks.org/python-pandas-corpusframe-drop_duplicates/"
   ]
  },
  {
   "cell_type": "code",
   "execution_count": 7,
   "metadata": {},
   "outputs": [
    {
     "name": "stdout",
     "output_type": "stream",
     "text": [
      "['akasema', 'alikuwa', 'alisema', 'baada', 'basi', 'bila', 'cha', 'chini', 'hadi', 'hapo', 'hata', 'hivyo', 'hiyo', 'huku', 'huo', 'ili', 'ilikuwa', 'juu', 'kama', 'karibu', 'katika', 'kila', 'kima', 'kisha', 'kubwa', 'kutoka', 'kuwa', 'kwa', 'kwamba', 'kwenda', 'kwenye', 'la', 'lakini', 'mara', 'mdogo', 'mimi', 'mkubwa', 'mmoja', 'moja', 'muda', 'mwenye', 'na', 'naye', 'ndani', 'ng', 'ni', 'nini', 'nonkungu', 'pamoja', 'pia', 'sana', 'sasa', 'sauti', 'tafadhali', 'tena', 'tu', 'vile', 'wa', 'wakati', 'wake', 'walikuwa', 'wao', 'watu', 'wengine', 'wote', 'ya', 'yake', 'yangu', 'yao', 'yeye', 'yule', 'za', 'zaidi', 'zake', 'i', 'me', 'my', 'myself', 'we', 'our', 'ours', 'ourselves', 'you', \"you're\", \"you've\", \"you'll\", \"you'd\", 'your', 'yours', 'yourself', 'yourselves', 'he', 'him', 'his', 'himself', 'she', \"she's\", 'her', 'hers', 'herself', 'it', \"it's\", 'its', 'itself', 'they', 'them', 'their', 'theirs', 'themselves', 'what', 'which', 'who', 'whom', 'this', 'that', \"that'll\", 'these', 'those', 'am', 'is', 'are', 'was', 'were', 'be', 'been', 'being', 'have', 'has', 'had', 'having', 'do', 'does', 'did', 'doing', 'a', 'an', 'the', 'and', 'but', 'if', 'or', 'because', 'as', 'until', 'while', 'of', 'at', 'by', 'for', 'with', 'about', 'against', 'between', 'into', 'through', 'during', 'before', 'after', 'above', 'below', 'to', 'from', 'up', 'down', 'in', 'out', 'on', 'off', 'over', 'under', 'again', 'further', 'then', 'once', 'here', 'there', 'when', 'where', 'why', 'how', 'all', 'any', 'both', 'each', 'few', 'more', 'most', 'other', 'some', 'such', 'no', 'nor', 'not', 'only', 'own', 'same', 'so', 'than', 'too', 'very', 's', 't', 'can', 'will', 'just', 'don', \"don't\", 'should', \"should've\", 'now', 'd', 'll', 'm', 'o', 're', 've', 'y', 'ain', 'aren', \"aren't\", 'couldn', \"couldn't\", 'didn', \"didn't\", 'doesn', \"doesn't\", 'hadn', \"hadn't\", 'hasn', \"hasn't\", 'haven', \"haven't\", 'isn', \"isn't\", 'ma', 'mightn', \"mightn't\", 'mustn', \"mustn't\", 'needn', \"needn't\", 'shan', \"shan't\", 'shouldn', \"shouldn't\", 'wasn', \"wasn't\", 'weren', \"weren't\", 'won', \"won't\", 'wouldn', \"wouldn't\"]\n"
     ]
    }
   ],
   "source": [
    "print (stopwords.words('engswa'))\r\n"
   ]
  },
  {
   "cell_type": "markdown",
   "metadata": {},
   "source": [
    "C:/Users/username/Appcorpus/Roming/nltk_corpus/corpora/stopwords :: I created my own custom list of stopwords (with swahili and english) stored in the directory listed before."
   ]
  },
  {
   "cell_type": "code",
   "execution_count": 8,
   "metadata": {},
   "outputs": [
    {
     "data": {
      "text/plain": "32052"
     },
     "execution_count": 8,
     "metadata": {},
     "output_type": "execute_result"
    }
   ],
   "source": [
    "stop = stopwords.words('engswa')\r\n",
    "corpus['Non_Stop'] = corpus['Text'].apply(lambda x: ' '.join([word for word in x.split() if word not in (stop)]))\r\n",
    "postremoval = len(corpus)\r\n",
    "postremoval"
   ]
  },
  {
   "cell_type": "markdown",
   "metadata": {},
   "source": [
    " Exclude stopwords with Python's list comprehension and pandas.corpusFrame.apply.\r\n",
    "\r\n",
    " inspired by https://stackoverflow.com/questions/29523254/python-remove-stop-words-from-pandas-corpusframe"
   ]
  },
  {
   "cell_type": "code",
   "execution_count": 10,
   "metadata": {},
   "outputs": [
    {
     "data": {
      "text/html": "<div>\n<style scoped>\n    .dataframe tbody tr th:only-of-type {\n        vertical-align: middle;\n    }\n\n    .dataframe tbody tr th {\n        vertical-align: top;\n    }\n\n    .dataframe thead th {\n        text-align: right;\n    }\n</style>\n<table border=\"1\" class=\"dataframe\">\n  <thead>\n    <tr style=\"text-align: right;\">\n      <th></th>\n      <th>Text</th>\n      <th>Non_Stop</th>\n    </tr>\n  </thead>\n  <tbody>\n    <tr>\n      <th>0</th>\n      <td>how to load this value</td>\n      <td>load value</td>\n    </tr>\n    <tr>\n      <th>1</th>\n      <td>1 gently scratch off the area to reveal the code</td>\n      <td>1 gently scratch area reveal code</td>\n    </tr>\n    <tr>\n      <th>2</th>\n      <td>2 enter 122 followed by your scratched code fo...</td>\n      <td>2 enter 122 followed scratched code followed</td>\n    </tr>\n    <tr>\n      <th>3</th>\n      <td>3 then press the call or ok button</td>\n      <td>3 press call ok button</td>\n    </tr>\n    <tr>\n      <th>4</th>\n      <td>4 you have reloaded your account</td>\n      <td>4 reloaded account</td>\n    </tr>\n    <tr>\n      <th>5</th>\n      <td>notice purchase fromregistered deader only</td>\n      <td>notice purchase fromregistered deader</td>\n    </tr>\n    <tr>\n      <th>6</th>\n      <td>if this card has been damaged please do not pu...</td>\n      <td>card damaged please purchase</td>\n    </tr>\n    <tr>\n      <th>7</th>\n      <td>umoja wa mataifa ofisi ya idara ya habari taar...</td>\n      <td>umoja mataifa ofisi idara habari taarifa ulimw...</td>\n    </tr>\n    <tr>\n      <th>8</th>\n      <td>kiswahili</td>\n      <td>kiswahili</td>\n    </tr>\n    <tr>\n      <th>9</th>\n      <td>kwa wanahisa tanzania portland cement company ...</td>\n      <td>wanahisa tanzania portland cement company limited</td>\n    </tr>\n    <tr>\n      <th>10</th>\n      <td>barua ya kuwasilisha</td>\n      <td>barua kuwasilisha</td>\n    </tr>\n    <tr>\n      <th>11</th>\n      <td>wakurugenzi wa kampuni wanayo furaha kuwasilis...</td>\n      <td>wakurugenzi kampuni wanayo furaha kuwasilisha ...</td>\n    </tr>\n    <tr>\n      <th>12</th>\n      <td>taarifa hii inajumuisha tamko la mwenyekiti ri...</td>\n      <td>taarifa hii inajumuisha tamko mwenyekiti ripot...</td>\n    </tr>\n    <tr>\n      <th>13</th>\n      <td>wakurugenzi wanapendekeza gawio la shilingi za...</td>\n      <td>wakurugenzi wanapendekeza gawio shilingi kitan...</td>\n    </tr>\n    <tr>\n      <th>14</th>\n      <td>jean marc junon mwenyekiti</td>\n      <td>jean marc junon mwenyekiti</td>\n    </tr>\n    <tr>\n      <th>15</th>\n      <td>maelezo mafupi ya mwenyekiti</td>\n      <td>maelezo mafupi mwenyekiti</td>\n    </tr>\n    <tr>\n      <th>16</th>\n      <td>utangulizi</td>\n      <td>utangulizi</td>\n    </tr>\n    <tr>\n      <th>17</th>\n      <td>ninayo furaha kubwa kuwatangazia wanahisa wetu...</td>\n      <td>ninayo furaha kuwatangazia wanahisa wetu mwaka...</td>\n    </tr>\n    <tr>\n      <th>18</th>\n      <td>tumeshuhudia ukuaji mkubwa wa soko pamoja na k...</td>\n      <td>tumeshuhudia ukuaji soko kupanuka soko letu</td>\n    </tr>\n    <tr>\n      <th>19</th>\n      <td>utendaji wa kiufundi ulikuwa mzuri sana na map...</td>\n      <td>utendaji kiufundi ulikuwa mzuri mapato fedha y...</td>\n    </tr>\n    <tr>\n      <th>20</th>\n      <td>mafanikio ya mwaka jana yameongeza imani yangu...</td>\n      <td>mafanikio mwaka jana yameongeza imani kampuni ...</td>\n    </tr>\n    <tr>\n      <th>21</th>\n      <td>hali ya kampuni kwa jumla</td>\n      <td>hali kampuni jumla</td>\n    </tr>\n    <tr>\n      <th>22</th>\n      <td>ukanda mzima wa afrika mashariki ulishuhudia u...</td>\n      <td>ukanda mzima afrika mashariki ulishuhudia ukua...</td>\n    </tr>\n    <tr>\n      <th>23</th>\n      <td>ongezeko la mahitaji ya saruji nchini kenya ug...</td>\n      <td>ongezeko mahitaji saruji nchini kenya uganda t...</td>\n    </tr>\n    <tr>\n      <th>24</th>\n      <td>maendeleo katika nchi za ukanda huo pia yalion...</td>\n      <td>maendeleo nchi ukanda yaliongezeka kiasi kikub...</td>\n    </tr>\n    <tr>\n      <th>25</th>\n      <td>katika tanzania sekta ya ujenzi ilikua kwa zai...</td>\n      <td>tanzania sekta ujenzi ilikua asilimia 10 utumi...</td>\n    </tr>\n    <tr>\n      <th>26</th>\n      <td>matokeo yake mauzo ya saruji yalipanda hadi ku...</td>\n      <td>matokeo mauzo saruji yalipanda kufikia kiasi t...</td>\n    </tr>\n    <tr>\n      <th>27</th>\n      <td>utendaji kazi wa kampuni</td>\n      <td>utendaji kazi kampuni</td>\n    </tr>\n    <tr>\n      <th>28</th>\n      <td>uzalishaji na mauzo ya kampuni vilivunja rekod...</td>\n      <td>uzalishaji mauzo kampuni vilivunja rekodi mwak...</td>\n    </tr>\n    <tr>\n      <th>29</th>\n      <td>uwezo wote wa kuzalisha klinka ulitumika ambap...</td>\n      <td>uwezo kuzalisha klinka ulitumika ambapo kiasi ...</td>\n    </tr>\n    <tr>\n      <th>30</th>\n      <td>na karibu uwezo wote wa kuzalisha saruji ulitu...</td>\n      <td>uwezo kuzalisha saruji ulitumika ambapo kiasi ...</td>\n    </tr>\n    <tr>\n      <th>31</th>\n      <td>upendeleo mkubwa umeendelea kuwekwa katika sok...</td>\n      <td>upendeleo umeendelea kuwekwa soko</td>\n    </tr>\n    <tr>\n      <th>32</th>\n      <td>ukuaji mkubwa wa soko umesababisha kuelekeza z...</td>\n      <td>ukuaji soko umesababisha kuelekeza mauzo yetu ...</td>\n    </tr>\n    <tr>\n      <th>33</th>\n      <td>uzalishaji mdogo wa klinka umesababisha uagiza...</td>\n      <td>uzalishaji klinka umesababisha uagizaji kiasi ...</td>\n    </tr>\n    <tr>\n      <th>34</th>\n      <td>mambo kadhaa kwa pamoja yamesababisha uagizaji...</td>\n      <td>mambo kadhaa yamesababisha uagizaji klinka kug...</td>\n    </tr>\n    <tr>\n      <th>35</th>\n      <td>bei za bidhaa za saruji ulimwenguni zilipanda ...</td>\n      <td>bei bidhaa saruji ulimwenguni zilipanda kutoka...</td>\n    </tr>\n    <tr>\n      <th>36</th>\n      <td>mwenendo wa kifedha wa kampuni</td>\n      <td>mwenendo kifedha kampuni</td>\n    </tr>\n    <tr>\n      <th>37</th>\n      <td>mapato ya mwaka 2007 yameongezeka kwa asilimia...</td>\n      <td>mapato mwaka 2007 yameongezeka asilimia 50 iki...</td>\n    </tr>\n    <tr>\n      <th>38</th>\n      <td>faida halisi baada ya kutoa kodi ikafikia kias...</td>\n      <td>faida halisi kutoa kodi ikafikia kiasi shiling...</td>\n    </tr>\n    <tr>\n      <th>39</th>\n      <td>ongezeko kubwa la bidhaa zetu pamoja na matumi...</td>\n      <td>ongezeko bidhaa zetu matumizi kiwango kabisa z...</td>\n    </tr>\n    <tr>\n      <th>40</th>\n      <td>ushiriki wa kampuni katika masuala ya kitaifa</td>\n      <td>ushiriki kampuni masuala kitaifa</td>\n    </tr>\n    <tr>\n      <th>41</th>\n      <td>kampuni imeendelea kudumisha dhamira yake ya k...</td>\n      <td>kampuni imeendelea kudumisha dhamira kuzingati...</td>\n    </tr>\n    <tr>\n      <th>42</th>\n      <td>tunatambua na kukubali jukumu letu la kufanya ...</td>\n      <td>tunatambua kukubali jukumu letu kufanya kazi k...</td>\n    </tr>\n    <tr>\n      <th>43</th>\n      <td>kadiri itakavyowezekana na bila kujali mazingi...</td>\n      <td>kadiri itakavyowezekana kujali mazingira magum...</td>\n    </tr>\n    <tr>\n      <th>44</th>\n      <td>kampuni imeanzisha programu ya kusaidia shughu...</td>\n      <td>kampuni imeanzisha programu kusaidia shughuli ...</td>\n    </tr>\n    <tr>\n      <th>45</th>\n      <td>aidha ifahamike kwamba kampuni ama moja kwa mo...</td>\n      <td>aidha ifahamike kampuni ama au njia nyingine m...</td>\n    </tr>\n    <tr>\n      <th>46</th>\n      <td>mwelekeo wa baadaye wa kampuni</td>\n      <td>mwelekeo baadaye kampuni</td>\n    </tr>\n    <tr>\n      <th>47</th>\n      <td>mwelekeo wa tasnia ya saruji katika afrika mas...</td>\n      <td>mwelekeo tasnia saruji afrika mashariki jumla ...</td>\n    </tr>\n    <tr>\n      <th>48</th>\n      <td>ukuaji madhubuti wa uchumi pamoja na kuongezek...</td>\n      <td>ukuaji madhubuti uchumi kuongezeka kipato husu...</td>\n    </tr>\n    <tr>\n      <th>49</th>\n      <td>mahitaji ya miundombinu yataendelea kuchochea ...</td>\n      <td>mahitaji miundombinu yataendelea kuchochea uku...</td>\n    </tr>\n  </tbody>\n</table>\n</div>",
      "text/plain": "                                                 Text  \\\n0                              how to load this value   \n1    1 gently scratch off the area to reveal the code   \n2   2 enter 122 followed by your scratched code fo...   \n3                  3 then press the call or ok button   \n4                    4 you have reloaded your account   \n5          notice purchase fromregistered deader only   \n6   if this card has been damaged please do not pu...   \n7   umoja wa mataifa ofisi ya idara ya habari taar...   \n8                                           kiswahili   \n9   kwa wanahisa tanzania portland cement company ...   \n10                               barua ya kuwasilisha   \n11  wakurugenzi wa kampuni wanayo furaha kuwasilis...   \n12  taarifa hii inajumuisha tamko la mwenyekiti ri...   \n13  wakurugenzi wanapendekeza gawio la shilingi za...   \n14                         jean marc junon mwenyekiti   \n15                       maelezo mafupi ya mwenyekiti   \n16                                         utangulizi   \n17  ninayo furaha kubwa kuwatangazia wanahisa wetu...   \n18  tumeshuhudia ukuaji mkubwa wa soko pamoja na k...   \n19  utendaji wa kiufundi ulikuwa mzuri sana na map...   \n20  mafanikio ya mwaka jana yameongeza imani yangu...   \n21                          hali ya kampuni kwa jumla   \n22  ukanda mzima wa afrika mashariki ulishuhudia u...   \n23  ongezeko la mahitaji ya saruji nchini kenya ug...   \n24  maendeleo katika nchi za ukanda huo pia yalion...   \n25  katika tanzania sekta ya ujenzi ilikua kwa zai...   \n26  matokeo yake mauzo ya saruji yalipanda hadi ku...   \n27                           utendaji kazi wa kampuni   \n28  uzalishaji na mauzo ya kampuni vilivunja rekod...   \n29  uwezo wote wa kuzalisha klinka ulitumika ambap...   \n30  na karibu uwezo wote wa kuzalisha saruji ulitu...   \n31  upendeleo mkubwa umeendelea kuwekwa katika sok...   \n32  ukuaji mkubwa wa soko umesababisha kuelekeza z...   \n33  uzalishaji mdogo wa klinka umesababisha uagiza...   \n34  mambo kadhaa kwa pamoja yamesababisha uagizaji...   \n35  bei za bidhaa za saruji ulimwenguni zilipanda ...   \n36                     mwenendo wa kifedha wa kampuni   \n37  mapato ya mwaka 2007 yameongezeka kwa asilimia...   \n38  faida halisi baada ya kutoa kodi ikafikia kias...   \n39  ongezeko kubwa la bidhaa zetu pamoja na matumi...   \n40      ushiriki wa kampuni katika masuala ya kitaifa   \n41  kampuni imeendelea kudumisha dhamira yake ya k...   \n42  tunatambua na kukubali jukumu letu la kufanya ...   \n43  kadiri itakavyowezekana na bila kujali mazingi...   \n44  kampuni imeanzisha programu ya kusaidia shughu...   \n45  aidha ifahamike kwamba kampuni ama moja kwa mo...   \n46                     mwelekeo wa baadaye wa kampuni   \n47  mwelekeo wa tasnia ya saruji katika afrika mas...   \n48  ukuaji madhubuti wa uchumi pamoja na kuongezek...   \n49  mahitaji ya miundombinu yataendelea kuchochea ...   \n\n                                             Non_Stop  \n0                                          load value  \n1                   1 gently scratch area reveal code  \n2        2 enter 122 followed scratched code followed  \n3                              3 press call ok button  \n4                                  4 reloaded account  \n5               notice purchase fromregistered deader  \n6                        card damaged please purchase  \n7   umoja mataifa ofisi idara habari taarifa ulimw...  \n8                                           kiswahili  \n9   wanahisa tanzania portland cement company limited  \n10                                  barua kuwasilisha  \n11  wakurugenzi kampuni wanayo furaha kuwasilisha ...  \n12  taarifa hii inajumuisha tamko mwenyekiti ripot...  \n13  wakurugenzi wanapendekeza gawio shilingi kitan...  \n14                         jean marc junon mwenyekiti  \n15                          maelezo mafupi mwenyekiti  \n16                                         utangulizi  \n17  ninayo furaha kuwatangazia wanahisa wetu mwaka...  \n18        tumeshuhudia ukuaji soko kupanuka soko letu  \n19  utendaji kiufundi ulikuwa mzuri mapato fedha y...  \n20  mafanikio mwaka jana yameongeza imani kampuni ...  \n21                                 hali kampuni jumla  \n22  ukanda mzima afrika mashariki ulishuhudia ukua...  \n23  ongezeko mahitaji saruji nchini kenya uganda t...  \n24  maendeleo nchi ukanda yaliongezeka kiasi kikub...  \n25  tanzania sekta ujenzi ilikua asilimia 10 utumi...  \n26  matokeo mauzo saruji yalipanda kufikia kiasi t...  \n27                              utendaji kazi kampuni  \n28  uzalishaji mauzo kampuni vilivunja rekodi mwak...  \n29  uwezo kuzalisha klinka ulitumika ambapo kiasi ...  \n30  uwezo kuzalisha saruji ulitumika ambapo kiasi ...  \n31                  upendeleo umeendelea kuwekwa soko  \n32  ukuaji soko umesababisha kuelekeza mauzo yetu ...  \n33  uzalishaji klinka umesababisha uagizaji kiasi ...  \n34  mambo kadhaa yamesababisha uagizaji klinka kug...  \n35  bei bidhaa saruji ulimwenguni zilipanda kutoka...  \n36                           mwenendo kifedha kampuni  \n37  mapato mwaka 2007 yameongezeka asilimia 50 iki...  \n38  faida halisi kutoa kodi ikafikia kiasi shiling...  \n39  ongezeko bidhaa zetu matumizi kiwango kabisa z...  \n40                   ushiriki kampuni masuala kitaifa  \n41  kampuni imeendelea kudumisha dhamira kuzingati...  \n42  tunatambua kukubali jukumu letu kufanya kazi k...  \n43  kadiri itakavyowezekana kujali mazingira magum...  \n44  kampuni imeanzisha programu kusaidia shughuli ...  \n45  aidha ifahamike kampuni ama au njia nyingine m...  \n46                           mwelekeo baadaye kampuni  \n47  mwelekeo tasnia saruji afrika mashariki jumla ...  \n48  ukuaji madhubuti uchumi kuongezeka kipato husu...  \n49  mahitaji miundombinu yataendelea kuchochea uku...  "
     },
     "execution_count": 10,
     "metadata": {},
     "output_type": "execute_result"
    }
   ],
   "source": [
    "corpus.head(50)"
   ]
  },
  {
   "cell_type": "code",
   "execution_count": null,
   "metadata": {},
   "outputs": [],
   "source": []
  },
  {
   "cell_type": "markdown",
   "metadata": {},
   "source": [
    "I have to find a way to lemmatize swahili text efficiently"
   ]
  },
  {
   "cell_type": "code",
   "execution_count": null,
   "metadata": {},
   "outputs": [],
   "source": []
  },
  {
   "cell_type": "markdown",
   "metadata": {},
   "source": []
  }
 ],
 "metadata": {
  "kernelspec": {
   "display_name": "Python 3.9.5 64-bit",
   "name": "python395jvsc74a57bd0cc939e359b1e81059f1e5de99c342a13feb7aac0bb97a2f2a4caeed4848670f5"
  },
  "language_info": {
   "codemirror_mode": {
    "name": "ipython",
    "version": 3
   },
   "file_extension": ".py",
   "mimetype": "text/x-python",
   "name": "python",
   "nbconvert_exporter": "python",
   "pygments_lexer": "ipython3",
   "version": "3.9.5"
  },
  "orig_nbformat": 2
 },
 "nbformat": 4,
 "nbformat_minor": 2
}